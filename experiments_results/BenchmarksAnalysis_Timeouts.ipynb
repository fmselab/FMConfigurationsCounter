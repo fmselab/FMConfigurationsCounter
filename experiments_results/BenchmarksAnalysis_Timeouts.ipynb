{
 "cells": [
  {
   "cell_type": "code",
   "execution_count": 1,
   "metadata": {},
   "outputs": [],
   "source": [
    "import pandas as pd\n",
    "import matplotlib.pyplot as plt\n",
    "import seaborn as sns"
   ]
  },
  {
   "cell_type": "code",
   "execution_count": 3,
   "metadata": {},
   "outputs": [
    {
     "name": "stdout",
     "output_type": "stream",
     "text": [
      "PATH\n",
      "../../benchmarks/FeatureIDE/OnlyOR-3CNF-FM-100-70-0,90-SAT-1.xml    59\n",
      "../../benchmarks/FeatureIDE/OnlyOR-3CNF-FM-100-70-0,90-SAT-4.xml    59\n",
      "../../benchmarks/FeatureIDE/OnlyOR-3CNF-FM-100-70-0,90-SAT-7.xml    59\n",
      "../../benchmarks/FeatureIDE/OnlyOR-3CNF-FM-100-70-0,90-SAT-5.xml    58\n",
      "../../benchmarks/FeatureIDE/OnlyOR-3CNF-FM-100-70-0,90-SAT-8.xml    58\n",
      "../../benchmarks/FeatureIDE/OnlyOR-3CNF-FM-100-70-0,90-SAT-2.xml    57\n",
      "../../benchmarks/FeatureIDE/OnlyOR-3CNF-FM-100-70-0,90-SAT-6.xml    55\n",
      "../../benchmarks/FeatureIDE/OnlyOR-3CNF-FM-100-70-0,90-SAT-0.xml    48\n",
      "../../benchmarks/FeatureIDE/OnlyOR-3CNF-FM-100-70-0,90-SAT-9.xml    21\n",
      "../../benchmarks/FeatureIDE/OnlyOR-3CNF-FM-100-70-0,90-SAT-3.xml    12\n",
      "Name: count, dtype: int64\n"
     ]
    }
   ],
   "source": [
    "# Import the experiments.csv file into a pandas dataframe\n",
    "df_experiments = pd.read_csv('experiments.csv', delimiter=';')\n",
    "\n",
    "# Print, for each PATH, how many times it timed out\n",
    "print(df_experiments[df_experiments['NUM_PRODUCTS'] == 'timeout']['PATH'].value_counts())\n",
    "\n",
    "# Compute the total number of timeeouts\n",
    "print(df_experiments[df_experiments['NUM_PRODUCTS'] == 'timeout']['PATH'].value_counts().sum())"
   ]
  }
 ],
 "metadata": {
  "kernelspec": {
   "display_name": "Python 3",
   "language": "python",
   "name": "python3"
  },
  "language_info": {
   "codemirror_mode": {
    "name": "ipython",
    "version": 3
   },
   "file_extension": ".py",
   "mimetype": "text/x-python",
   "name": "python",
   "nbconvert_exporter": "python",
   "pygments_lexer": "ipython3",
   "version": "3.8.8"
  },
  "orig_nbformat": 4
 },
 "nbformat": 4,
 "nbformat_minor": 2
}
