{
 "cells": [
  {
   "cell_type": "code",
   "execution_count": 9,
   "metadata": {},
   "outputs": [],
   "source": [
    "import xml.etree.ElementTree as ET\n",
    "import os\n",
    "from os import listdir\n",
    "from os.path import isfile, join"
   ]
  },
  {
   "cell_type": "code",
   "execution_count": 11,
   "metadata": {},
   "outputs": [
    {
     "name": "stdout",
     "output_type": "stream",
     "text": [
      "['F:\\\\Dati-Andrea\\\\GitHub\\\\FMConfigurationsCounter\\\\examples\\\\aplModel.xml', 'F:\\\\Dati-Andrea\\\\GitHub\\\\FMConfigurationsCounter\\\\examples\\\\automotive01.xml', 'F:\\\\Dati-Andrea\\\\GitHub\\\\FMConfigurationsCounter\\\\examples\\\\automotive02v4Model.xml', 'F:\\\\Dati-Andrea\\\\GitHub\\\\FMConfigurationsCounter\\\\examples\\\\axTLSModel.xml', 'F:\\\\Dati-Andrea\\\\GitHub\\\\FMConfigurationsCounter\\\\examples\\\\berkeleyDBModel.xml', 'F:\\\\Dati-Andrea\\\\GitHub\\\\FMConfigurationsCounter\\\\examples\\\\BusyBox.xml', 'F:\\\\Dati-Andrea\\\\GitHub\\\\FMConfigurationsCounter\\\\examples\\\\carModel.xml', 'F:\\\\Dati-Andrea\\\\GitHub\\\\FMConfigurationsCounter\\\\examples\\\\Embtoolkit.xml', 'F:\\\\Dati-Andrea\\\\GitHub\\\\FMConfigurationsCounter\\\\examples\\\\eshopModel.xml', 'F:\\\\Dati-Andrea\\\\GitHub\\\\FMConfigurationsCounter\\\\examples\\\\FinancialServices01.xml', 'F:\\\\Dati-Andrea\\\\GitHub\\\\FMConfigurationsCounter\\\\examples\\\\gplAheadModel.xml', 'F:\\\\Dati-Andrea\\\\GitHub\\\\FMConfigurationsCounter\\\\examples\\\\gplModel.xml', 'F:\\\\Dati-Andrea\\\\GitHub\\\\FMConfigurationsCounter\\\\examples\\\\gplTinyModel.xml', 'F:\\\\Dati-Andrea\\\\GitHub\\\\FMConfigurationsCounter\\\\examples\\\\linuxModel.xml', 'F:\\\\Dati-Andrea\\\\GitHub\\\\FMConfigurationsCounter\\\\examples\\\\ppuModel.xml', 'F:\\\\Dati-Andrea\\\\GitHub\\\\FMConfigurationsCounter\\\\examples\\\\uClibCModel.xml', 'F:\\\\Dati-Andrea\\\\GitHub\\\\FMConfigurationsCounter\\\\examples\\\\uClinuxBase.xml', 'F:\\\\Dati-Andrea\\\\GitHub\\\\FMConfigurationsCounter\\\\examples\\\\uClinuxDistribution.xml', 'F:\\\\Dati-Andrea\\\\GitHub\\\\FMConfigurationsCounter\\\\examples\\\\violetModel.xml', 'F:\\\\Dati-Andrea\\\\GitHub\\\\FMConfigurationsCounter\\\\examples\\\\waterlooModel.xml']\n",
      "F:\\Dati-Andrea\\GitHub\\FMConfigurationsCounter\\examples\\aplModel.xml alt: 0.0 or: 0.0 and: 100.0\n",
      "F:\\Dati-Andrea\\GitHub\\FMConfigurationsCounter\\examples\\automotive01.xml alt: 57.485875706214685 or: 6.073446327683616 and: 36.440677966101696\n",
      "F:\\Dati-Andrea\\GitHub\\FMConfigurationsCounter\\examples\\automotive02v4Model.xml alt: 69.1834451901566 or: 6.487695749440715 and: 24.328859060402685\n",
      "F:\\Dati-Andrea\\GitHub\\FMConfigurationsCounter\\examples\\axTLSModel.xml alt: 27.77777777777778 or: 0.0 and: 72.22222222222221\n",
      "F:\\Dati-Andrea\\GitHub\\FMConfigurationsCounter\\examples\\berkeleyDBModel.xml alt: 34.78260869565217 or: 17.391304347826086 and: 47.82608695652174\n",
      "F:\\Dati-Andrea\\GitHub\\FMConfigurationsCounter\\examples\\BusyBox.xml alt: 4.678362573099415 or: 0.0 and: 95.32163742690058\n",
      "F:\\Dati-Andrea\\GitHub\\FMConfigurationsCounter\\examples\\carModel.xml alt: 33.33333333333333 or: 16.666666666666664 and: 50.0\n",
      "F:\\Dati-Andrea\\GitHub\\FMConfigurationsCounter\\examples\\Embtoolkit.xml alt: 52.112676056338024 or: 0.0 and: 47.88732394366197\n",
      "F:\\Dati-Andrea\\GitHub\\FMConfigurationsCounter\\examples\\eshopModel.xml alt: 0.0 or: 29.1044776119403 and: 70.8955223880597\n",
      "F:\\Dati-Andrea\\GitHub\\FMConfigurationsCounter\\examples\\FinancialServices01.xml alt: 67.93478260869566 or: 3.260869565217391 and: 28.804347826086957\n",
      "F:\\Dati-Andrea\\GitHub\\FMConfigurationsCounter\\examples\\gplAheadModel.xml alt: 45.45454545454545 or: 4.545454545454546 and: 50.0\n",
      "F:\\Dati-Andrea\\GitHub\\FMConfigurationsCounter\\examples\\gplModel.xml alt: 63.63636363636363 or: 9.090909090909092 and: 27.27272727272727\n",
      "F:\\Dati-Andrea\\GitHub\\FMConfigurationsCounter\\examples\\gplTinyModel.xml alt: 33.33333333333333 or: 33.33333333333333 and: 33.33333333333333\n",
      "F:\\Dati-Andrea\\GitHub\\FMConfigurationsCounter\\examples\\linuxModel.xml alt: 4.23728813559322 or: 0.211864406779661 and: 95.55084745762711\n",
      "F:\\Dati-Andrea\\GitHub\\FMConfigurationsCounter\\examples\\ppuModel.xml alt: 26.08695652173913 or: 17.391304347826086 and: 56.52173913043478\n",
      "F:\\Dati-Andrea\\GitHub\\FMConfigurationsCounter\\examples\\uClibCModel.xml alt: 47.82608695652174 or: 0.0 and: 52.17391304347826\n",
      "F:\\Dati-Andrea\\GitHub\\FMConfigurationsCounter\\examples\\uClinuxBase.xml alt: 98.61111111111111 or: 0.0 and: 1.3888888888888888\n",
      "F:\\Dati-Andrea\\GitHub\\FMConfigurationsCounter\\examples\\uClinuxDistribution.xml alt: 4.716981132075472 or: 0.0 and: 95.28301886792453\n",
      "F:\\Dati-Andrea\\GitHub\\FMConfigurationsCounter\\examples\\violetModel.xml alt: 7.6923076923076925 or: 84.61538461538461 and: 7.6923076923076925\n",
      "F:\\Dati-Andrea\\GitHub\\FMConfigurationsCounter\\examples\\waterlooModel.xml alt: 22.29299363057325 or: 27.388535031847134 and: 50.318471337579616\n"
     ]
    }
   ],
   "source": [
    "cwd = \"F:\\Dati-Andrea\\GitHub\\FMConfigurationsCounter\\examples\"\n",
    "onlyfiles = [os.path.join(cwd, f) for f in os.listdir(cwd) if \n",
    "os.path.isfile(os.path.join(cwd, f))]\n",
    "print(onlyfiles) \n",
    "\n",
    "for file in onlyfiles:  \n",
    "    tree = ET.parse(file)\n",
    "    root = tree.getroot()\n",
    "    n_and = 0\n",
    "    n_alt = 0\n",
    "    n_or = 0\n",
    "\n",
    "    for struct in root.iter('and'):\n",
    "        n_and=n_and+1\n",
    "        \n",
    "    for struct in root.iter('alt'):\n",
    "        n_alt=n_alt+1   \n",
    "        \n",
    "    for struct in root.iter('or'):\n",
    "        n_or=n_or+1   \n",
    "        \n",
    "    print(file, \"alt:\", (n_alt / (n_and + n_or + n_alt)) * 100, \"or:\", (n_or / (n_and + n_or + n_alt)) * 100, \"and:\", (n_and / (n_and + n_or + n_alt)) * 100)\n"
   ]
  }
 ],
 "metadata": {
  "kernelspec": {
   "display_name": "Python 3",
   "language": "python",
   "name": "python3"
  },
  "language_info": {
   "codemirror_mode": {
    "name": "ipython",
    "version": 3
   },
   "file_extension": ".py",
   "mimetype": "text/x-python",
   "name": "python",
   "nbconvert_exporter": "python",
   "pygments_lexer": "ipython3",
   "version": "3.11.3"
  },
  "orig_nbformat": 4
 },
 "nbformat": 4,
 "nbformat_minor": 2
}
